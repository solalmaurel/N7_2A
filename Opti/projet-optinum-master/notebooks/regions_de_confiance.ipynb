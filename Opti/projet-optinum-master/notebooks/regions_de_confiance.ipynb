{
 "cells": [
  {
   "cell_type": "markdown",
   "metadata": {},
   "source": [
    "<center>\n",
    "<h1> TP-Projet d'optimisation numérique </h1>\n",
    "<h1> Algorithme des régions de confiance </h1>\n",
    "</center>"
   ]
  },
  {
   "cell_type": "markdown",
   "metadata": {},
   "source": [
    "# Régions de confiance avec Pas de Cauchy \n",
    "\n",
    "## Implémentation \n",
    "\n",
    "1. Coder l'algorithme du pas de Cauchy dans le fichier `src/cauchy.jl`). La spécification de cet algorithme est donnée dans le fichier.\n",
    "2. Ecrire des tests exhaustifs (qui testent tous les cas de figure possibles) pour votre algorithme du pas de Cauchy. Vous remplirez pour cela le fichier `test/tester_cauchy.jl` sur le modèle des autres fichiers de tests et vous exécuterez dans la cellule de code ci-après ces tests."
   ]
  },
  {
   "cell_type": "code",
   "execution_count": 4,
   "metadata": {},
   "outputs": [
    {
     "name": "stdout",
     "output_type": "stream",
     "text": [
      "Case 3: g^T H g > 0, τ = 1: \u001b[91m\u001b[1mTest Failed\u001b[22m\u001b[39m at \u001b[39m\u001b[1m/home/sml3887/Documents/2A/Opti/projet-optinum-master/test/tester_cauchy.jl:34\u001b[22m\n",
      "  Expression: norm(s) ≈ Δ\n",
      "   Evaluated: 0.5 ≈ 1.0\n",
      "Stacktrace:\n",
      " [1] \u001b[0m\u001b[1mmacro expansion\u001b[22m\n",
      "\u001b[90m   @ \u001b[39m\u001b[90m/mnt/n7fs/ens/tp_cots/julia-1.8.2/share/julia/stdlib/v1.8/Test/src/\u001b[39m\u001b[90m\u001b[4mTest.jl:464\u001b[24m\u001b[39m\u001b[90m [inlined]\u001b[39m\n",
      " [2] \u001b[0m\u001b[1mmacro expansion\u001b[22m\n",
      "\u001b[90m   @ \u001b[39m\u001b[90m~/Documents/2A/Opti/projet-optinum-master/test/\u001b[39m\u001b[90m\u001b[4mtester_cauchy.jl:34\u001b[24m\u001b[39m\u001b[90m [inlined]\u001b[39m\n",
      " [3] \u001b[0m\u001b[1mmacro expansion\u001b[22m\n",
      "\u001b[90m   @ \u001b[39m\u001b[90m/mnt/n7fs/ens/tp_cots/julia-1.8.2/share/julia/stdlib/v1.8/Test/src/\u001b[39m\u001b[90m\u001b[4mTest.jl:1357\u001b[24m\u001b[39m\u001b[90m [inlined]\u001b[39m\n",
      " [4] \u001b[0m\u001b[1mmacro expansion\u001b[22m\n",
      "\u001b[90m   @ \u001b[39m\u001b[90m~/Documents/2A/Opti/projet-optinum-master/test/\u001b[39m\u001b[90m\u001b[4mtester_cauchy.jl:30\u001b[24m\u001b[39m\u001b[90m [inlined]\u001b[39m\n",
      " [5] \u001b[0m\u001b[1mmacro expansion\u001b[22m\n",
      "\u001b[90m   @ \u001b[39m\u001b[90m/mnt/n7fs/ens/tp_cots/julia-1.8.2/share/julia/stdlib/v1.8/Test/src/\u001b[39m\u001b[90m\u001b[4mTest.jl:1357\u001b[24m\u001b[39m\u001b[90m [inlined]\u001b[39m\n",
      " [6] \u001b[0m\u001b[1mtester_cauchy\u001b[22m\u001b[0m\u001b[1m(\u001b[22m\u001b[90mcauchy\u001b[39m::\u001b[0mtypeof(cauchy)\u001b[0m\u001b[1m)\u001b[22m\n",
      "\u001b[90m   @ \u001b[39m\u001b[35mMain\u001b[39m \u001b[90m~/Documents/2A/Opti/projet-optinum-master/test/\u001b[39m\u001b[90m\u001b[4mtester_cauchy.jl:10\u001b[24m\u001b[39m\n",
      "\u001b[0m\u001b[1mTest Summary:                | \u001b[22m\u001b[32m\u001b[1mPass  \u001b[22m\u001b[39m\u001b[91m\u001b[1mFail  \u001b[22m\u001b[39m\u001b[36m\u001b[1mTotal  \u001b[22m\u001b[39m\u001b[0m\u001b[1mTime\u001b[22m\n",
      "Cauchy Step Tests            | \u001b[32m   6  \u001b[39m\u001b[91m   1  \u001b[39m\u001b[36m    7  \u001b[39m\u001b[0m0.0s\n",
      "  Case 1: g = 0              | \u001b[32m   1  \u001b[39m      \u001b[36m    1  \u001b[39m\u001b[0m0.0s\n",
      "  Case 2: g^T H g <= 0       | \u001b[32m   2  \u001b[39m      \u001b[36m    2  \u001b[39m\u001b[0m0.0s\n",
      "  Case 3: g^T H g > 0, τ = 1 | \u001b[32m   1  \u001b[39m\u001b[91m   1  \u001b[39m\u001b[36m    2  \u001b[39m\u001b[0m0.0s\n",
      "  Case 4: g^T H g > 0, τ < 1 | \u001b[32m   2  \u001b[39m      \u001b[36m    2  \u001b[39m\u001b[0m0.0s\n"
     ]
    },
    {
     "ename": "LoadError",
     "evalue": "\u001b[91mSome tests did not pass: 6 passed, 1 failed, 0 errored, 0 broken.\u001b[39m",
     "output_type": "error",
     "traceback": [
      "\u001b[91mSome tests did not pass: 6 passed, 1 failed, 0 errored, 0 broken.\u001b[39m",
      "",
      "Stacktrace:",
      " [1] finish(ts::Test.DefaultTestSet)",
      "   @ Test /mnt/n7fs/ens/tp_cots/julia-1.8.2/share/julia/stdlib/v1.8/Test/src/Test.jl:1092",
      " [2] macro expansion",
      "   @ /mnt/n7fs/ens/tp_cots/julia-1.8.2/share/julia/stdlib/v1.8/Test/src/Test.jl:1368 [inlined]",
      " [3] tester_cauchy(cauchy::typeof(cauchy))",
      "   @ Main ~/Documents/2A/Opti/projet-optinum-master/test/tester_cauchy.jl:10",
      " [4] top-level scope",
      "   @ In[4]:5"
     ]
    }
   ],
   "source": [
    "include(\"../src/cauchy.jl\")         # votre algorithme\n",
    "include(\"../test/tester_cauchy.jl\") # la fo nction pour tester votre algorithme\n",
    "\n",
    "#\n",
    "tester_cauchy(cauchy); # tester l'algorithme"
   ]
  },
  {
   "cell_type": "markdown",
   "metadata": {},
   "source": [
    "3. Coder l'algorithme des régions de confiance (fichier `src/regions_de_confiance.jl`). Sa spécification est donnée dans le fichier.\n",
    "4. Vérifier que les tests ci-dessous passent."
   ]
  },
  {
   "cell_type": "code",
   "execution_count": 13,
   "metadata": {},
   "outputs": [
    {
     "name": "stdout",
     "output_type": "stream",
     "text": [
      "Affichage des résultats des algorithmes : false\n",
      "\n",
      "RC et pas de Cauchy : \u001b[91m\u001b[1mTest Failed\u001b[22m\u001b[39m at \u001b[39m\u001b[1m/home/sml3887/Documents/2A/Opti/projet-optinum-master/test/tester_rc_cauchy.jl:35\u001b[22m\n",
      "  Expression: ≈(x_sol, sol_exacte_fct1, atol = tol_erreur)\n",
      "   Evaluated: [7.476319552773079e-8, 0.0, 0.0] ≈ [1, 1, 1] (atol=0.01)\n",
      "Stacktrace:\n",
      " [1] \u001b[0m\u001b[1mmacro expansion\u001b[22m\n",
      "\u001b[90m   @ \u001b[39m\u001b[90m/mnt/n7fs/ens/tp_cots/julia-1.8.2/share/julia/stdlib/v1.8/Test/src/\u001b[39m\u001b[90m\u001b[4mTest.jl:464\u001b[24m\u001b[39m\u001b[90m [inlined]\u001b[39m\n",
      " [2] \u001b[0m\u001b[1mmacro expansion\u001b[22m\n",
      "\u001b[90m   @ \u001b[39m\u001b[90m~/Documents/2A/Opti/projet-optinum-master/test/\u001b[39m\u001b[90m\u001b[4mtester_rc_cauchy.jl:35\u001b[24m\u001b[39m\u001b[90m [inlined]\u001b[39m\n",
      " [3] \u001b[0m\u001b[1mmacro expansion\u001b[22m\n",
      "\u001b[90m   @ \u001b[39m\u001b[90m/mnt/n7fs/ens/tp_cots/julia-1.8.2/share/julia/stdlib/v1.8/Test/src/\u001b[39m\u001b[90m\u001b[4mTest.jl:1357\u001b[24m\u001b[39m\u001b[90m [inlined]\u001b[39m\n",
      " [4] \u001b[0m\u001b[1mtester_rc_cauchy\u001b[22m\u001b[0m\u001b[1m(\u001b[22m\u001b[90mrc\u001b[39m::\u001b[0mtypeof(regions_de_confiance), \u001b[90mafficher\u001b[39m::\u001b[0mBool\u001b[0m\u001b[1m)\u001b[22m\n",
      "\u001b[90m   @ \u001b[39m\u001b[35mMain\u001b[39m \u001b[90m~/Documents/2A/Opti/projet-optinum-master/test/\u001b[39m\u001b[90m\u001b[4mtester_rc_cauchy.jl:31\u001b[24m\u001b[39m\n",
      "RC et pas de Cauchy : \u001b[91m\u001b[1mTest Failed\u001b[22m\u001b[39m at \u001b[39m\u001b[1m/home/sml3887/Documents/2A/Opti/projet-optinum-master/test/tester_rc_cauchy.jl:37\u001b[22m\n",
      "  Expression: nb_iters == 33\n",
      "   Evaluated: 90 == 33\n",
      "Stacktrace:\n",
      " [1] \u001b[0m\u001b[1mmacro expansion\u001b[22m\n",
      "\u001b[90m   @ \u001b[39m\u001b[90m/mnt/n7fs/ens/tp_cots/julia-1.8.2/share/julia/stdlib/v1.8/Test/src/\u001b[39m\u001b[90m\u001b[4mTest.jl:464\u001b[24m\u001b[39m\u001b[90m [inlined]\u001b[39m\n",
      " [2] \u001b[0m\u001b[1mmacro expansion\u001b[22m\n",
      "\u001b[90m   @ \u001b[39m\u001b[90m~/Documents/2A/Opti/projet-optinum-master/test/\u001b[39m\u001b[90m\u001b[4mtester_rc_cauchy.jl:37\u001b[24m\u001b[39m\u001b[90m [inlined]\u001b[39m\n",
      " [3] \u001b[0m\u001b[1mmacro expansion\u001b[22m\n",
      "\u001b[90m   @ \u001b[39m\u001b[90m/mnt/n7fs/ens/tp_cots/julia-1.8.2/share/julia/stdlib/v1.8/Test/src/\u001b[39m\u001b[90m\u001b[4mTest.jl:1357\u001b[24m\u001b[39m\u001b[90m [inlined]\u001b[39m\n",
      " [4] \u001b[0m\u001b[1mtester_rc_cauchy\u001b[22m\u001b[0m\u001b[1m(\u001b[22m\u001b[90mrc\u001b[39m::\u001b[0mtypeof(regions_de_confiance), \u001b[90mafficher\u001b[39m::\u001b[0mBool\u001b[0m\u001b[1m)\u001b[22m\n",
      "\u001b[90m   @ \u001b[39m\u001b[35mMain\u001b[39m \u001b[90m~/Documents/2A/Opti/projet-optinum-master/test/\u001b[39m\u001b[90m\u001b[4mtester_rc_cauchy.jl:31\u001b[24m\u001b[39m\n",
      "RC et pas de Cauchy : \u001b[91m\u001b[1mTest Failed\u001b[22m\u001b[39m at \u001b[39m\u001b[1m/home/sml3887/Documents/2A/Opti/projet-optinum-master/test/tester_rc_cauchy.jl:44\u001b[22m\n",
      "  Expression: ≈(x_sol, sol_exacte_fct1, atol = tol_erreur)\n",
      "   Evaluated: [4.189835772241212, 1.2569507316723638, -0.9217638698930669] ≈ [1, 1, 1] (atol=0.01)\n",
      "Stacktrace:\n",
      " [1] \u001b[0m\u001b[1mmacro expansion\u001b[22m\n",
      "\u001b[90m   @ \u001b[39m\u001b[90m/mnt/n7fs/ens/tp_cots/julia-1.8.2/share/julia/stdlib/v1.8/Test/src/\u001b[39m\u001b[90m\u001b[4mTest.jl:464\u001b[24m\u001b[39m\u001b[90m [inlined]\u001b[39m\n",
      " [2] \u001b[0m\u001b[1mmacro expansion\u001b[22m\n",
      "\u001b[90m   @ \u001b[39m\u001b[90m~/Documents/2A/Opti/projet-optinum-master/test/\u001b[39m\u001b[90m\u001b[4mtester_rc_cauchy.jl:44\u001b[24m\u001b[39m\u001b[90m [inlined]\u001b[39m\n",
      " [3] \u001b[0m\u001b[1mmacro expansion\u001b[22m\n",
      "\u001b[90m   @ \u001b[39m\u001b[90m/mnt/n7fs/ens/tp_cots/julia-1.8.2/share/julia/stdlib/v1.8/Test/src/\u001b[39m\u001b[90m\u001b[4mTest.jl:1357\u001b[24m\u001b[39m\u001b[90m [inlined]\u001b[39m\n",
      " [4] \u001b[0m\u001b[1mtester_rc_cauchy\u001b[22m\u001b[0m\u001b[1m(\u001b[22m\u001b[90mrc\u001b[39m::\u001b[0mtypeof(regions_de_confiance), \u001b[90mafficher\u001b[39m::\u001b[0mBool\u001b[0m\u001b[1m)\u001b[22m\n",
      "\u001b[90m   @ \u001b[39m\u001b[35mMain\u001b[39m \u001b[90m~/Documents/2A/Opti/projet-optinum-master/test/\u001b[39m\u001b[90m\u001b[4mtester_rc_cauchy.jl:31\u001b[24m\u001b[39m\n",
      "RC et pas de Cauchy : \u001b[91m\u001b[1mTest Failed\u001b[22m\u001b[39m at \u001b[39m\u001b[1m/home/sml3887/Documents/2A/Opti/projet-optinum-master/test/tester_rc_cauchy.jl:45\u001b[22m\n",
      "  Expression: flag == 2\n",
      "   Evaluated: 1 == 2\n",
      "Stacktrace:\n",
      " [1] \u001b[0m\u001b[1mmacro expansion\u001b[22m\n",
      "\u001b[90m   @ \u001b[39m\u001b[90m/mnt/n7fs/ens/tp_cots/julia-1.8.2/share/julia/stdlib/v1.8/Test/src/\u001b[39m\u001b[90m\u001b[4mTest.jl:464\u001b[24m\u001b[39m\u001b[90m [inlined]\u001b[39m\n",
      " [2] \u001b[0m\u001b[1mmacro expansion\u001b[22m\n",
      "\u001b[90m   @ \u001b[39m\u001b[90m~/Documents/2A/Opti/projet-optinum-master/test/\u001b[39m\u001b[90m\u001b[4mtester_rc_cauchy.jl:45\u001b[24m\u001b[39m\u001b[90m [inlined]\u001b[39m\n",
      " [3] \u001b[0m\u001b[1mmacro expansion\u001b[22m\n",
      "\u001b[90m   @ \u001b[39m\u001b[90m/mnt/n7fs/ens/tp_cots/julia-1.8.2/share/julia/stdlib/v1.8/Test/src/\u001b[39m\u001b[90m\u001b[4mTest.jl:1357\u001b[24m\u001b[39m\u001b[90m [inlined]\u001b[39m\n",
      " [4] \u001b[0m\u001b[1mtester_rc_cauchy\u001b[22m\u001b[0m\u001b[1m(\u001b[22m\u001b[90mrc\u001b[39m::\u001b[0mtypeof(regions_de_confiance), \u001b[90mafficher\u001b[39m::\u001b[0mBool\u001b[0m\u001b[1m)\u001b[22m\n",
      "\u001b[90m   @ \u001b[39m\u001b[35mMain\u001b[39m \u001b[90m~/Documents/2A/Opti/projet-optinum-master/test/\u001b[39m\u001b[90m\u001b[4mtester_rc_cauchy.jl:31\u001b[24m\u001b[39m\n",
      "RC et pas de Cauchy : \u001b[91m\u001b[1mTest Failed\u001b[22m\u001b[39m at \u001b[39m\u001b[1m/home/sml3887/Documents/2A/Opti/projet-optinum-master/test/tester_rc_cauchy.jl:46\u001b[22m\n",
      "  Expression: nb_iters == 34\n",
      "   Evaluated: 57 == 34\n",
      "Stacktrace:\n",
      " [1] \u001b[0m\u001b[1mmacro expansion\u001b[22m\n",
      "\u001b[90m   @ \u001b[39m\u001b[90m/mnt/n7fs/ens/tp_cots/julia-1.8.2/share/julia/stdlib/v1.8/Test/src/\u001b[39m\u001b[90m\u001b[4mTest.jl:464\u001b[24m\u001b[39m\u001b[90m [inlined]\u001b[39m\n",
      " [2] \u001b[0m\u001b[1mmacro expansion\u001b[22m\n",
      "\u001b[90m   @ \u001b[39m\u001b[90m~/Documents/2A/Opti/projet-optinum-master/test/\u001b[39m\u001b[90m\u001b[4mtester_rc_cauchy.jl:46\u001b[24m\u001b[39m\u001b[90m [inlined]\u001b[39m\n",
      " [3] \u001b[0m\u001b[1mmacro expansion\u001b[22m\n",
      "\u001b[90m   @ \u001b[39m\u001b[90m/mnt/n7fs/ens/tp_cots/julia-1.8.2/share/julia/stdlib/v1.8/Test/src/\u001b[39m\u001b[90m\u001b[4mTest.jl:1357\u001b[24m\u001b[39m\u001b[90m [inlined]\u001b[39m\n",
      " [4] \u001b[0m\u001b[1mtester_rc_cauchy\u001b[22m\u001b[0m\u001b[1m(\u001b[22m\u001b[90mrc\u001b[39m::\u001b[0mtypeof(regions_de_confiance), \u001b[90mafficher\u001b[39m::\u001b[0mBool\u001b[0m\u001b[1m)\u001b[22m\n",
      "\u001b[90m   @ \u001b[39m\u001b[35mMain\u001b[39m \u001b[90m~/Documents/2A/Opti/projet-optinum-master/test/\u001b[39m\u001b[90m\u001b[4mtester_rc_cauchy.jl:31\u001b[24m\u001b[39m\n",
      "RC et pas de Cauchy : \u001b[91m\u001b[1mTest Failed\u001b[22m\u001b[39m at \u001b[39m\u001b[1m/home/sml3887/Documents/2A/Opti/projet-optinum-master/test/tester_rc_cauchy.jl:53\u001b[22m\n",
      "  Expression: ≈(x_sol, sol_exacte_fct2, atol = tol_erreur)\n",
      "   Evaluated: [-0.8072404232349333, 0.6727003526957785] ≈ [1, 1] (atol=0.01)\n",
      "Stacktrace:\n",
      " [1] \u001b[0m\u001b[1mmacro expansion\u001b[22m\n",
      "\u001b[90m   @ \u001b[39m\u001b[90m/mnt/n7fs/ens/tp_cots/julia-1.8.2/share/julia/stdlib/v1.8/Test/src/\u001b[39m\u001b[90m\u001b[4mTest.jl:464\u001b[24m\u001b[39m\u001b[90m [inlined]\u001b[39m\n",
      " [2] \u001b[0m\u001b[1mmacro expansion\u001b[22m\n",
      "\u001b[90m   @ \u001b[39m\u001b[90m~/Documents/2A/Opti/projet-optinum-master/test/\u001b[39m\u001b[90m\u001b[4mtester_rc_cauchy.jl:53\u001b[24m\u001b[39m\u001b[90m [inlined]\u001b[39m\n",
      " [3] \u001b[0m\u001b[1mmacro expansion\u001b[22m\n",
      "\u001b[90m   @ \u001b[39m\u001b[90m/mnt/n7fs/ens/tp_cots/julia-1.8.2/share/julia/stdlib/v1.8/Test/src/\u001b[39m\u001b[90m\u001b[4mTest.jl:1357\u001b[24m\u001b[39m\u001b[90m [inlined]\u001b[39m\n",
      " [4] \u001b[0m\u001b[1mtester_rc_cauchy\u001b[22m\u001b[0m\u001b[1m(\u001b[22m\u001b[90mrc\u001b[39m::\u001b[0mtypeof(regions_de_confiance), \u001b[90mafficher\u001b[39m::\u001b[0mBool\u001b[0m\u001b[1m)\u001b[22m\n",
      "\u001b[90m   @ \u001b[39m\u001b[35mMain\u001b[39m \u001b[90m~/Documents/2A/Opti/projet-optinum-master/test/\u001b[39m\u001b[90m\u001b[4mtester_rc_cauchy.jl:31\u001b[24m\u001b[39m\n",
      "RC et pas de Cauchy : \u001b[91m\u001b[1mTest Failed\u001b[22m\u001b[39m at \u001b[39m\u001b[1m/home/sml3887/Documents/2A/Opti/projet-optinum-master/test/tester_rc_cauchy.jl:54\u001b[22m\n",
      "  Expression: flag == 3\n",
      "   Evaluated: 1 == 3\n",
      "Stacktrace:\n",
      " [1] \u001b[0m\u001b[1mmacro expansion\u001b[22m\n",
      "\u001b[90m   @ \u001b[39m\u001b[90m/mnt/n7fs/ens/tp_cots/julia-1.8.2/share/julia/stdlib/v1.8/Test/src/\u001b[39m\u001b[90m\u001b[4mTest.jl:464\u001b[24m\u001b[39m\u001b[90m [inlined]\u001b[39m\n",
      " [2] \u001b[0m\u001b[1mmacro expansion\u001b[22m\n",
      "\u001b[90m   @ \u001b[39m\u001b[90m~/Documents/2A/Opti/projet-optinum-master/test/\u001b[39m\u001b[90m\u001b[4mtester_rc_cauchy.jl:54\u001b[24m\u001b[39m\u001b[90m [inlined]\u001b[39m\n",
      " [3] \u001b[0m\u001b[1mmacro expansion\u001b[22m\n",
      "\u001b[90m   @ \u001b[39m\u001b[90m/mnt/n7fs/ens/tp_cots/julia-1.8.2/share/julia/stdlib/v1.8/Test/src/\u001b[39m\u001b[90m\u001b[4mTest.jl:1357\u001b[24m\u001b[39m\u001b[90m [inlined]\u001b[39m\n",
      " [4] \u001b[0m\u001b[1mtester_rc_cauchy\u001b[22m\u001b[0m\u001b[1m(\u001b[22m\u001b[90mrc\u001b[39m::\u001b[0mtypeof(regions_de_confiance), \u001b[90mafficher\u001b[39m::\u001b[0mBool\u001b[0m\u001b[1m)\u001b[22m\n",
      "\u001b[90m   @ \u001b[39m\u001b[35mMain\u001b[39m \u001b[90m~/Documents/2A/Opti/projet-optinum-master/test/\u001b[39m\u001b[90m\u001b[4mtester_rc_cauchy.jl:31\u001b[24m\u001b[39m\n",
      "RC et pas de Cauchy : \u001b[91m\u001b[1mTest Failed\u001b[22m\u001b[39m at \u001b[39m\u001b[1m/home/sml3887/Documents/2A/Opti/projet-optinum-master/test/tester_rc_cauchy.jl:55\u001b[22m\n",
      "  Expression: nb_iters == 5000\n",
      "   Evaluated: 136 == 5000\n",
      "Stacktrace:\n",
      " [1] \u001b[0m\u001b[1mmacro expansion\u001b[22m\n",
      "\u001b[90m   @ \u001b[39m\u001b[90m/mnt/n7fs/ens/tp_cots/julia-1.8.2/share/julia/stdlib/v1.8/Test/src/\u001b[39m\u001b[90m\u001b[4mTest.jl:464\u001b[24m\u001b[39m\u001b[90m [inlined]\u001b[39m\n",
      " [2] \u001b[0m\u001b[1mmacro expansion\u001b[22m\n",
      "\u001b[90m   @ \u001b[39m\u001b[90m~/Documents/2A/Opti/projet-optinum-master/test/\u001b[39m\u001b[90m\u001b[4mtester_rc_cauchy.jl:55\u001b[24m\u001b[39m\u001b[90m [inlined]\u001b[39m\n",
      " [3] \u001b[0m\u001b[1mmacro expansion\u001b[22m\n",
      "\u001b[90m   @ \u001b[39m\u001b[90m/mnt/n7fs/ens/tp_cots/julia-1.8.2/share/julia/stdlib/v1.8/Test/src/\u001b[39m\u001b[90m\u001b[4mTest.jl:1357\u001b[24m\u001b[39m\u001b[90m [inlined]\u001b[39m\n",
      " [4] \u001b[0m\u001b[1mtester_rc_cauchy\u001b[22m\u001b[0m\u001b[1m(\u001b[22m\u001b[90mrc\u001b[39m::\u001b[0mtypeof(regions_de_confiance), \u001b[90mafficher\u001b[39m::\u001b[0mBool\u001b[0m\u001b[1m)\u001b[22m\n",
      "\u001b[90m   @ \u001b[39m\u001b[35mMain\u001b[39m \u001b[90m~/Documents/2A/Opti/projet-optinum-master/test/\u001b[39m\u001b[90m\u001b[4mtester_rc_cauchy.jl:31\u001b[24m\u001b[39m\n"
     ]
    },
    {
     "name": "stdout",
     "output_type": "stream",
     "text": [
      "RC et pas de Cauchy : \u001b[91m\u001b[1mTest Failed\u001b[22m\u001b[39m at \u001b[39m\u001b[1m/home/sml3887/Documents/2A/Opti/projet-optinum-master/test/tester_rc_cauchy.jl:62\u001b[22m\n",
      "  Expression: ≈(x_sol, sol_exacte_fct2, atol = tol_erreur)\n",
      "   Evaluated: [9.574280543979755, 0.0] ≈ [1, 1] (atol=0.01)\n",
      "Stacktrace:\n",
      " [1] \u001b[0m\u001b[1mmacro expansion\u001b[22m\n",
      "\u001b[90m   @ \u001b[39m\u001b[90m/mnt/n7fs/ens/tp_cots/julia-1.8.2/share/julia/stdlib/v1.8/Test/src/\u001b[39m\u001b[90m\u001b[4mTest.jl:464\u001b[24m\u001b[39m\u001b[90m [inlined]\u001b[39m\n",
      " [2] \u001b[0m\u001b[1mmacro expansion\u001b[22m\n",
      "\u001b[90m   @ \u001b[39m\u001b[90m~/Documents/2A/Opti/projet-optinum-master/test/\u001b[39m\u001b[90m\u001b[4mtester_rc_cauchy.jl:62\u001b[24m\u001b[39m\u001b[90m [inlined]\u001b[39m\n",
      " [3] \u001b[0m\u001b[1mmacro expansion\u001b[22m\n",
      "\u001b[90m   @ \u001b[39m\u001b[90m/mnt/n7fs/ens/tp_cots/julia-1.8.2/share/julia/stdlib/v1.8/Test/src/\u001b[39m\u001b[90m\u001b[4mTest.jl:1357\u001b[24m\u001b[39m\u001b[90m [inlined]\u001b[39m\n",
      " [4] \u001b[0m\u001b[1mtester_rc_cauchy\u001b[22m\u001b[0m\u001b[1m(\u001b[22m\u001b[90mrc\u001b[39m::\u001b[0mtypeof(regions_de_confiance), \u001b[90mafficher\u001b[39m::\u001b[0mBool\u001b[0m\u001b[1m)\u001b[22m\n",
      "\u001b[90m   @ \u001b[39m\u001b[35mMain\u001b[39m \u001b[90m~/Documents/2A/Opti/projet-optinum-master/test/\u001b[39m\u001b[90m\u001b[4mtester_rc_cauchy.jl:31\u001b[24m\u001b[39m\n",
      "RC et pas de Cauchy : \u001b[91m\u001b[1mTest Failed\u001b[22m\u001b[39m at \u001b[39m\u001b[1m/home/sml3887/Documents/2A/Opti/projet-optinum-master/test/tester_rc_cauchy.jl:63\u001b[22m\n",
      "  Expression: flag == 0\n",
      "   Evaluated: 3 == 0\n",
      "Stacktrace:\n",
      " [1] \u001b[0m\u001b[1mmacro expansion\u001b[22m\n",
      "\u001b[90m   @ \u001b[39m\u001b[90m/mnt/n7fs/ens/tp_cots/julia-1.8.2/share/julia/stdlib/v1.8/Test/src/\u001b[39m\u001b[90m\u001b[4mTest.jl:464\u001b[24m\u001b[39m\u001b[90m [inlined]\u001b[39m\n",
      " [2] \u001b[0m\u001b[1mmacro expansion\u001b[22m\n",
      "\u001b[90m   @ \u001b[39m\u001b[90m~/Documents/2A/Opti/projet-optinum-master/test/\u001b[39m\u001b[90m\u001b[4mtester_rc_cauchy.jl:63\u001b[24m\u001b[39m\u001b[90m [inlined]\u001b[39m\n",
      " [3] \u001b[0m\u001b[1mmacro expansion\u001b[22m\n",
      "\u001b[90m   @ \u001b[39m\u001b[90m/mnt/n7fs/ens/tp_cots/julia-1.8.2/share/julia/stdlib/v1.8/Test/src/\u001b[39m\u001b[90m\u001b[4mTest.jl:1357\u001b[24m\u001b[39m\u001b[90m [inlined]\u001b[39m\n",
      " [4] \u001b[0m\u001b[1mtester_rc_cauchy\u001b[22m\u001b[0m\u001b[1m(\u001b[22m\u001b[90mrc\u001b[39m::\u001b[0mtypeof(regions_de_confiance), \u001b[90mafficher\u001b[39m::\u001b[0mBool\u001b[0m\u001b[1m)\u001b[22m\n",
      "\u001b[90m   @ \u001b[39m\u001b[35mMain\u001b[39m \u001b[90m~/Documents/2A/Opti/projet-optinum-master/test/\u001b[39m\u001b[90m\u001b[4mtester_rc_cauchy.jl:31\u001b[24m\u001b[39m\n",
      "RC et pas de Cauchy : \u001b[91m\u001b[1mTest Failed\u001b[22m\u001b[39m at \u001b[39m\u001b[1m/home/sml3887/Documents/2A/Opti/projet-optinum-master/test/tester_rc_cauchy.jl:64\u001b[22m\n",
      "  Expression: nb_iters == 864\n",
      "   Evaluated: 5000 == 864\n",
      "Stacktrace:\n",
      " [1] \u001b[0m\u001b[1mmacro expansion\u001b[22m\n",
      "\u001b[90m   @ \u001b[39m\u001b[90m/mnt/n7fs/ens/tp_cots/julia-1.8.2/share/julia/stdlib/v1.8/Test/src/\u001b[39m\u001b[90m\u001b[4mTest.jl:464\u001b[24m\u001b[39m\u001b[90m [inlined]\u001b[39m\n",
      " [2] \u001b[0m\u001b[1mmacro expansion\u001b[22m\n",
      "\u001b[90m   @ \u001b[39m\u001b[90m~/Documents/2A/Opti/projet-optinum-master/test/\u001b[39m\u001b[90m\u001b[4mtester_rc_cauchy.jl:64\u001b[24m\u001b[39m\u001b[90m [inlined]\u001b[39m\n",
      " [3] \u001b[0m\u001b[1mmacro expansion\u001b[22m\n",
      "\u001b[90m   @ \u001b[39m\u001b[90m/mnt/n7fs/ens/tp_cots/julia-1.8.2/share/julia/stdlib/v1.8/Test/src/\u001b[39m\u001b[90m\u001b[4mTest.jl:1357\u001b[24m\u001b[39m\u001b[90m [inlined]\u001b[39m\n",
      " [4] \u001b[0m\u001b[1mtester_rc_cauchy\u001b[22m\u001b[0m\u001b[1m(\u001b[22m\u001b[90mrc\u001b[39m::\u001b[0mtypeof(regions_de_confiance), \u001b[90mafficher\u001b[39m::\u001b[0mBool\u001b[0m\u001b[1m)\u001b[22m\n",
      "\u001b[90m   @ \u001b[39m\u001b[35mMain\u001b[39m \u001b[90m~/Documents/2A/Opti/projet-optinum-master/test/\u001b[39m\u001b[90m\u001b[4mtester_rc_cauchy.jl:31\u001b[24m\u001b[39m\n",
      "RC et pas de Cauchy : \u001b[91m\u001b[1mTest Failed\u001b[22m\u001b[39m at \u001b[39m\u001b[1m/home/sml3887/Documents/2A/Opti/projet-optinum-master/test/tester_rc_cauchy.jl:71\u001b[22m\n",
      "  Expression: ≈(x_sol, sol_exacte_fct2, atol = tol_erreur)\n",
      "   Evaluated: [0.0, 9.922455217233818e-5] ≈ [1, 1] (atol=0.01)\n",
      "Stacktrace:\n",
      " [1] \u001b[0m\u001b[1mmacro expansion\u001b[22m\n",
      "\u001b[90m   @ \u001b[39m\u001b[90m/mnt/n7fs/ens/tp_cots/julia-1.8.2/share/julia/stdlib/v1.8/Test/src/\u001b[39m\u001b[90m\u001b[4mTest.jl:464\u001b[24m\u001b[39m\u001b[90m [inlined]\u001b[39m\n",
      " [2] \u001b[0m\u001b[1mmacro expansion\u001b[22m\n",
      "\u001b[90m   @ \u001b[39m\u001b[90m~/Documents/2A/Opti/projet-optinum-master/test/\u001b[39m\u001b[90m\u001b[4mtester_rc_cauchy.jl:71\u001b[24m\u001b[39m\u001b[90m [inlined]\u001b[39m\n",
      " [3] \u001b[0m\u001b[1mmacro expansion\u001b[22m\n",
      "\u001b[90m   @ \u001b[39m\u001b[90m/mnt/n7fs/ens/tp_cots/julia-1.8.2/share/julia/stdlib/v1.8/Test/src/\u001b[39m\u001b[90m\u001b[4mTest.jl:1357\u001b[24m\u001b[39m\u001b[90m [inlined]\u001b[39m\n",
      " [4] \u001b[0m\u001b[1mtester_rc_cauchy\u001b[22m\u001b[0m\u001b[1m(\u001b[22m\u001b[90mrc\u001b[39m::\u001b[0mtypeof(regions_de_confiance), \u001b[90mafficher\u001b[39m::\u001b[0mBool\u001b[0m\u001b[1m)\u001b[22m\n",
      "\u001b[90m   @ \u001b[39m\u001b[35mMain\u001b[39m \u001b[90m~/Documents/2A/Opti/projet-optinum-master/test/\u001b[39m\u001b[90m\u001b[4mtester_rc_cauchy.jl:31\u001b[24m\u001b[39m\n",
      "RC et pas de Cauchy : \u001b[91m\u001b[1mTest Failed\u001b[22m\u001b[39m at \u001b[39m\u001b[1m/home/sml3887/Documents/2A/Opti/projet-optinum-master/test/tester_rc_cauchy.jl:73\u001b[22m\n",
      "  Expression: nb_iters == 4512\n",
      "   Evaluated: 782 == 4512\n",
      "Stacktrace:\n",
      " [1] \u001b[0m\u001b[1mmacro expansion\u001b[22m\n",
      "\u001b[90m   @ \u001b[39m\u001b[90m/mnt/n7fs/ens/tp_cots/julia-1.8.2/share/julia/stdlib/v1.8/Test/src/\u001b[39m\u001b[90m\u001b[4mTest.jl:464\u001b[24m\u001b[39m\u001b[90m [inlined]\u001b[39m\n",
      " [2] \u001b[0m\u001b[1mmacro expansion\u001b[22m\n",
      "\u001b[90m   @ \u001b[39m\u001b[90m~/Documents/2A/Opti/projet-optinum-master/test/\u001b[39m\u001b[90m\u001b[4mtester_rc_cauchy.jl:73\u001b[24m\u001b[39m\u001b[90m [inlined]\u001b[39m\n",
      " [3] \u001b[0m\u001b[1mmacro expansion\u001b[22m\n",
      "\u001b[90m   @ \u001b[39m\u001b[90m/mnt/n7fs/ens/tp_cots/julia-1.8.2/share/julia/stdlib/v1.8/Test/src/\u001b[39m\u001b[90m\u001b[4mTest.jl:1357\u001b[24m\u001b[39m\u001b[90m [inlined]\u001b[39m\n",
      " [4] \u001b[0m\u001b[1mtester_rc_cauchy\u001b[22m\u001b[0m\u001b[1m(\u001b[22m\u001b[90mrc\u001b[39m::\u001b[0mtypeof(regions_de_confiance), \u001b[90mafficher\u001b[39m::\u001b[0mBool\u001b[0m\u001b[1m)\u001b[22m\n",
      "\u001b[90m   @ \u001b[39m\u001b[35mMain\u001b[39m \u001b[90m~/Documents/2A/Opti/projet-optinum-master/test/\u001b[39m\u001b[90m\u001b[4mtester_rc_cauchy.jl:31\u001b[24m\u001b[39m\n",
      "\u001b[0m\u001b[1mTest Summary:        | \u001b[22m\u001b[32m\u001b[1mPass  \u001b[22m\u001b[39m\u001b[91m\u001b[1mFail  \u001b[22m\u001b[39m\u001b[36m\u001b[1mTotal  \u001b[22m\u001b[39m\u001b[0m\u001b[1mTime\u001b[22m\n",
      "RC et pas de Cauchy  | \u001b[32m   2  \u001b[39m\u001b[91m  13  \u001b[39m\u001b[36m   15  \u001b[39m\u001b[0m0.3s\n"
     ]
    },
    {
     "ename": "LoadError",
     "evalue": "\u001b[91mSome tests did not pass: 2 passed, 13 failed, 0 errored, 0 broken.\u001b[39m",
     "output_type": "error",
     "traceback": [
      "\u001b[91mSome tests did not pass: 2 passed, 13 failed, 0 errored, 0 broken.\u001b[39m",
      "",
      "Stacktrace:",
      " [1] finish(ts::Test.DefaultTestSet)",
      "   @ Test /mnt/n7fs/ens/tp_cots/julia-1.8.2/share/julia/stdlib/v1.8/Test/src/Test.jl:1092",
      " [2] macro expansion",
      "   @ /mnt/n7fs/ens/tp_cots/julia-1.8.2/share/julia/stdlib/v1.8/Test/src/Test.jl:1368 [inlined]",
      " [3] tester_rc_cauchy(rc::typeof(regions_de_confiance), afficher::Bool)",
      "   @ Main ~/Documents/2A/Opti/projet-optinum-master/test/tester_rc_cauchy.jl:31",
      " [4] top-level scope",
      "   @ In[13]:8"
     ]
    }
   ],
   "source": [
    "include(\"../src/regions_de_confiance.jl\")\n",
    "include(\"../test/tester_rc_cauchy.jl\")\n",
    "\n",
    "#\n",
    "afficher = false # si true, alors affiche les résultats des algorithmes\n",
    "\n",
    "#\n",
    "tester_rc_cauchy(regions_de_confiance, afficher);"
   ]
  },
  {
   "cell_type": "markdown",
   "metadata": {},
   "source": [
    "## Interprétation \n",
    "\n",
    "<!-- Pour ces questions, des représentations graphiques sont attendues pour corroborer vos réponses. -->\n",
    "\n",
    "1. Soit la fonction $f_1 \\colon \\mathbb{R}^3 \\to \\mathbb{R}$ définie par\n",
    "$$ \n",
    "    f_1(x_1,x_2, x_3) = 2 (x_1 +x_2 + x_3 -3)^2 + (x_1-x_2)^2 + (x_2 - x_3)^2\n",
    "$$ \n",
    "Quelle relation lie la fonction $f_1$ et son modèle de Taylor à l’ordre 2 ? Comparer alors les performances de l'algorithme de Newton et celui des régions de confiance avec le pas de Cauchy sur cette fonction.\n",
    "\n",
    "2. Le rayon initial de la région de confiance est un paramètre important dans l’analyse\n",
    "de la performance de l’algorithme. Sur quel(s) autre(s) paramètre(s) peut-on jouer\n",
    "pour essayer d’améliorer cette performance ? Étudier l’influence d’au moins deux de\n",
    "ces paramètres. Pour cela vous ferez des tests numériques et donnerez les résultats sous forme de tableaux et de graphiques."
   ]
  },
  {
   "cell_type": "code",
   "execution_count": null,
   "metadata": {},
   "outputs": [],
   "source": [
    "# Expérimentations numériques à faire ici\n",
    "# Vous pouvez utiliser le package Plots pour les affichages de courbes: using Plots"
   ]
  },
  {
   "cell_type": "markdown",
   "metadata": {},
   "source": [
    "# Régions de confiance avec gradient conjugué tronqué\n",
    "\n",
    "## Implémentation \n",
    "\n",
    "1. Implémenter l’algorithme du gradient conjugué tronqué (fichier `src/gct.jl`). Sa spécification est dans le fichier.\n",
    "2. Vérifier que les tests ci-dessous passent."
   ]
  },
  {
   "cell_type": "code",
   "execution_count": null,
   "metadata": {},
   "outputs": [],
   "source": [
    "include(\"../src/gct.jl\")\n",
    "include(\"../test/tester_gct.jl\")\n",
    "\n",
    "#\n",
    "tester_gct(gct);"
   ]
  },
  {
   "cell_type": "markdown",
   "metadata": {},
   "source": [
    "3. Intégrer l’algorithme du gradient conjugué tronqué dans le code des régions de confiance.\n",
    "4. Vérifier que les tests ci-dessous passent."
   ]
  },
  {
   "cell_type": "code",
   "execution_count": null,
   "metadata": {},
   "outputs": [],
   "source": [
    "include(\"../src/regions_de_confiance.jl\")\n",
    "include(\"../test/tester_rc_gct.jl\")\n",
    "\n",
    "#\n",
    "afficher = false # si true, alors affiche les résultats des algorithmes\n",
    "\n",
    "#\n",
    "tester_rc_gct(regions_de_confiance, afficher);"
   ]
  },
  {
   "cell_type": "markdown",
   "metadata": {},
   "source": [
    "## Interprétation  \n",
    "\n",
    "Nous proposons de comparer l'utilisation du pas de Cauchy avec celle du gradient conjugué tronqué dans l'algorithme des régions de confiance.\n",
    "\n",
    "**Remarques.**\n",
    "* Nous vous demandons de réaliser des expérimentations numériques pour les comparaisons demandées ci-après.\n",
    "* Vous devez utiliser l'argument optionnel `max_iter_gct` et la sortie `xs` de l'algorithme des régions de confiance.\n",
    "* Vous pouvez comparer l'écart en norme entre les itérés de l'algorithme et la solution du problème.\n",
    "* Vous trouverez des choses utiles dans le fichier `test/fonctions_de_tests.jl`.\n",
    "\n",
    "1. Comparer dans le cas où l'on force le gradient conjugué tronqué à ne faire qu'une seule itération. Que remarquez vous ?\n",
    "2. Comparer dans le cas général. Que remarquez vous ?\n",
    "3. Quels sont les avantages et inconvénients des deux approches ?"
   ]
  },
  {
   "cell_type": "code",
   "execution_count": null,
   "metadata": {},
   "outputs": [],
   "source": [
    "# Expérimentations numériques à faire ici.\n",
    "# Vous pouvez utiliser le package Plots pour les affichages de courbes: using Plots"
   ]
  }
 ],
 "metadata": {
  "kernelspec": {
   "display_name": "Julia 1.8.2 - N7",
   "language": "julia",
   "name": "julia-1.8-n7"
  },
  "language_info": {
   "file_extension": ".jl",
   "mimetype": "application/julia",
   "name": "julia",
   "version": "1.8.2"
  }
 },
 "nbformat": 4,
 "nbformat_minor": 4
}
